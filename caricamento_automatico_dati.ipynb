{
  "nbformat": 4,
  "nbformat_minor": 0,
  "metadata": {
    "colab": {
      "provenance": [],
      "toc_visible": true
    },
    "kernelspec": {
      "name": "python3",
      "display_name": "Python 3"
    },
    "language_info": {
      "name": "python"
    }
  },
  "cells": [
    {
      "cell_type": "code",
      "execution_count": null,
      "metadata": {
        "id": "H5lKLNb-u3dd"
      },
      "outputs": [],
      "source": [
        "%%capture\n",
        "import warnings\n",
        "from datetime import date, timedelta\n",
        "from google.colab import drive\n",
        "!pip install seaborn\n",
        "!pip install yahoo_fin\n",
        "import numpy as np\n",
        "import seaborn as sns\n",
        "import matplotlib.pyplot as plt\n",
        "import yfinance as yf\n",
        "from tqdm import tqdm\n",
        "import pandas as pd\n",
        "from datetime import datetime\n",
        "import holidays\n",
        "import random\n",
        "from google.colab import files\n",
        "from statistics import mode\n",
        "from sklearn.preprocessing import MinMaxScaler\n",
        "from sklearn.metrics import r2_score\n",
        "import concurrent.futures\n",
        "!pip install gdown\n",
        "import gdown\n",
        "from scipy.stats import zscore\n",
        "drive.mount('/content/drive')\n",
        "import yahoo_fin.stock_info as si\n",
        "# Non mostro la numerazione scientifica\n",
        "pd.set_option('display.float_format', lambda x: '%.2f' % x)\n",
        "\n",
        "# Mostro separatori delle migliai con la virgola\n",
        "pd.options.display.float_format = '{:,.3f}'.format\n",
        "\n",
        "cartella_csv = '/content/drive/MyDrive/Investimenti/finanza quant/'\n"
      ]
    },
    {
      "cell_type": "code",
      "source": [
        "# Solo i tickers che ho in portafoglio\n",
        "\n",
        "prtf = ['TRMD', 'MSFT', 'STLA', 'NVDA', 'MC.PA', 'LRCX', 'META', 'AMAT', 'CFRUY', 'URI', 'AAPL', 'DHI', 'CHRD', 'LPG'\n",
        ",'SMCI','MOD']\n",
        "\n",
        "symbol_list = prtf\n",
        "\n",
        "all_tickers_filtered = prtf\n",
        "\n",
        "all_tickers = prtf\n",
        "\n",
        "print(len(prtf))"
      ],
      "metadata": {
        "id": "xufWphTNwSqD"
      },
      "execution_count": null,
      "outputs": []
    },
    {
      "cell_type": "code",
      "source": [
        "from tqdm import tqdm\n",
        "import pandas as pd\n",
        "\n",
        "def fetch_fundamental_data(symbol):\n",
        "    try:\n",
        "        stock = yf.Ticker(symbol).info\n",
        "        return stock\n",
        "    except Exception as e:\n",
        "        print(f\"Ignorato errore per il simbolo {symbol}: {e}\")\n",
        "        return None\n",
        "\n",
        "# Inizializza una lista per conservare i dati fondamentali\n",
        "fundamental_data = []\n",
        "\n",
        "# Utilizza tqdm per aggiungere una progress bar al ciclo\n",
        "for symbol in tqdm(all_tickers, desc=\"Fetching data\"):\n",
        "    data = fetch_fundamental_data(symbol)\n",
        "    if data is not None:\n",
        "        fundamental_data.append(data)\n",
        "\n",
        "# Crea il DataFrame finale dai dati fondamentali raccolti\n",
        "df_fundamental = pd.DataFrame(fundamental_data)"
      ],
      "metadata": {
        "id": "g_TRRvRwgFVy"
      },
      "execution_count": null,
      "outputs": []
    },
    {
      "cell_type": "code",
      "source": [
        "df_fundamental"
      ],
      "metadata": {
        "id": "L3wHtATes1Dy"
      },
      "execution_count": null,
      "outputs": []
    },
    {
      "cell_type": "code",
      "source": [
        "# df_filtered = df_fundamental[(df_fundamental['industry'] == 'Oil & Gas Midstream') & (df_fundamental['marketCap'] > 3000000000)][['shortName', 'marketCap', 'dividendYield']].assign(dividendYield=lambda x: x['dividendYield'] * 100).sort_values(by='dividendYield', ascending=False)\n",
        "# df_filtered = df_fundamental[(df_fundamental['dividendYield'] > 0.05) & (df_fundamental['marketCap'] > 3000000000)  ][['shortName', 'marketCap', 'dividendYield', 'country']].assign(dividendYield=lambda x: x['dividendYield'] * 100).sort_values(by='dividendYield', ascending=False)\n",
        "\n",
        "# Definisci la funzione che esegue la moltiplicazione\n",
        "def multiply_columns(df):\n",
        "    # df['dividendYield'] *= 1\n",
        "    # df['ebitdaMargins'] *= 1\n",
        "    # df['returnOnEquity'] *= 1\n",
        "    #df['priceToHighRatio'] = df['currentPrice'] / df['fiftyTwoWeekHigh'] * 100\n",
        "    df['mostRecentQuarter'] = pd.to_datetime(df['mostRecentQuarter'], unit='s').dt.date\n",
        "    return df.drop(columns=['currentPrice', 'fiftyTwoWeekHigh'])  #non mi interessa portarmi dietro df['currentPrice'] / df['fiftyTwoWeekHigh']\n",
        "\n",
        "\n",
        "# Filtra e seleziona il DataFrame, applica la funzione e ordina\n",
        "df_filtered = (\n",
        "    df_fundamental\n",
        "    #  [\n",
        "        #(df_fundamental['industry'] == 'Oil & Gas Midstream') &\n",
        "    # (df_fundamental['marketCap'] > 2000000000)]\n",
        "    [['shortName',  'industry','dividendYield', 'ebitdaMargins', 'recommendationKey','totalCashPerShare',\n",
        "      'returnOnEquity', 'currentPrice', 'fiftyTwoWeekHigh','earningsQuarterlyGrowth','mostRecentQuarter'\n",
        "      #'priceToHighRatio'\n",
        "      ]]\n",
        "    .pipe(multiply_columns)\n",
        "    .sort_values(by='dividendYield', ascending=False)\n",
        ")\n",
        "\n",
        "#df_filtered = df_fundamental[(df_fundamental['industry'] == 'Oil & Gas Midstream') & (df_fundamental['marketCap'] > 2000000000)][['shortName', 'marketCap','52WeekChange','dividendYield','ebitdaMargins','recommendationKey']].assign(dividendYield=lambda x: x[['dividendYield','ebitdaMargins']] * 100).sort_values(by='dividendYield', ascending=False)\n",
        "df_filtered\n",
        "nuovo = df_filtered\n",
        "nuovo"
      ],
      "metadata": {
        "id": "RNcDjz8pwcEt"
      },
      "execution_count": null,
      "outputs": []
    },
    {
      "cell_type": "code",
      "source": [
        "file = \"/content/drive/MyDrive/Investimenti/finanza quant/simple_kpis.csv\""
      ],
      "metadata": {
        "id": "COCuTFmevlkm"
      },
      "execution_count": null,
      "outputs": []
    },
    {
      "cell_type": "code",
      "source": [],
      "metadata": {
        "id": "RwOM-pvqy986"
      },
      "execution_count": null,
      "outputs": []
    },
    {
      "cell_type": "code",
      "source": [
        "esistente = pd.read_csv(file, usecols=range(1, len(pd.read_csv(file, nrows=1).columns)))"
      ],
      "metadata": {
        "id": "kMvTO6gGzn13"
      },
      "execution_count": null,
      "outputs": []
    },
    {
      "cell_type": "code",
      "source": [
        "esistente['mostRecentQuarter'] = pd.to_datetime(esistente['mostRecentQuarter'])\n",
        "nuovo['mostRecentQuarter'] = pd.to_datetime(nuovo['mostRecentQuarter'])\n",
        "\n",
        "esistente['shortName'] = esistente['shortName'].astype(str)\n",
        "nuovo['shortName'] = nuovo['shortName'].astype(str)\n",
        "\n",
        "esistente['industry'] = esistente['industry'].astype(str)\n",
        "nuovo['industry'] = nuovo['industry'].astype(str)\n"
      ],
      "metadata": {
        "id": "olkyDixu0cB_"
      },
      "execution_count": null,
      "outputs": []
    },
    {
      "cell_type": "code",
      "source": [
        "appeso = pd.concat([esistente,nuovo]).drop_duplicates(subset=[\"shortName\",\"mostRecentQuarter\"]).sort_values(by=['shortName', 'mostRecentQuarter'])\n"
      ],
      "metadata": {
        "id": "qIKj2-hR5plX"
      },
      "execution_count": null,
      "outputs": []
    },
    {
      "cell_type": "code",
      "source": [
        "appeso.to_csv(file)\n"
      ],
      "metadata": {
        "id": "zdTdHIfyyzTg"
      },
      "execution_count": null,
      "outputs": []
    }
  ]
}
