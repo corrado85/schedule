{
  "nbformat": 4,
  "nbformat_minor": 0,
  "metadata": {
    "colab": {
      "provenance": [],
      "toc_visible": true
    },
    "kernelspec": {
      "name": "python3",
      "display_name": "Python 3"
    },
    "language_info": {
      "name": "python"
    }
  },
  "cells": [
    {
      "cell_type": "code",
      "execution_count": null,
      "metadata": {
        "id": "H5lKLNb-u3dd"
      },
      "outputs": [],
      "source": [
        "%%capture\n",
        "import warnings\n",
        "from datetime import date, timedelta\n",
        "import os\n",
        "!pip install seaborn\n",
        "!pip install yahoo_fin\n",
        "!pip install google-auth google-auth-oauthlib google-auth-httplib2 google-api-python-client\n",
        "import numpy as np\n",
        "import seaborn as sns\n",
        "import matplotlib.pyplot as plt\n",
        "import yfinance as yf\n",
        "from tqdm import tqdm\n",
        "import pandas as pd\n",
        "from datetime import datetime\n",
        "import holidays\n",
        "import random\n",
        "from google.colab import files\n",
        "from statistics import mode\n",
        "from sklearn.preprocessing import MinMaxScaler\n",
        "from sklearn.metrics import r2_score\n",
        "import concurrent.futures\n",
        "!pip install gdown\n",
        "import gdown\n",
        "from scipy.stats import zscore\n",
        "from google.oauth2 import service_account\n",
        "from googleapiclient.discovery import build\n",
        "from googleapiclient.http import MediaIoBaseDownload\n",
        "import io\n",
        "\n",
        "# Autenticazione con le credenziali del servizio\n",
        "credentials_path = os.getenv('GOOGLE_APPLICATION_CREDENTIALS')\n",
        "if not credentials_path:\n",
        "    raise ValueError(\"GOOGLE_APPLICATION_CREDENTIALS non è impostato.\")\n",
        "credentials = service_account.Credentials.from_service_account_file(credentials_path)\n",
        "drive_service = build('drive', 'v3', credentials=credentials)\n",
        "\n",
        "# Funzione per scaricare il file da Google Drive\n",
        "def download_file_from_google_drive(file_id, destination):\n",
        "    request = drive_service.files().get_media(fileId=file_id)\n",
        "    fh = io.FileIO(destination, 'wb')\n",
        "    downloader = MediaIoBaseDownload(fh, request)\n",
        "    done = False\n",
        "    while done is False:\n",
        "        status, done = downloader.next_chunk()\n",
        "        print(\"Download %d%%.\" % int(status.progress() * 100))\n",
        "    fh.close()\n",
        "\n",
        "# ID del file su Google Drive e percorso di destinazione\n",
        "file_id = 'GOOGLE_DRIVE_FILE_ID'  # Sostituisci con l'ID del tuo file\n",
        "destination = '/content/simple_kpis.csv'  # Sostituisci con il percorso di destinazione\n",
        "\n",
        "# Scarica il file\n",
        "download_file_from_google_drive(file_id, destination)\n",
        "\n",
        "# Leggi il file CSV\n",
        "file = destination\n",
        "try:\n",
        "    esistente = pd.read_csv(file, usecols=range(1, len(pd.read_csv(file, nrows=1).columns)))\n",
        "    print(\"File letto con successo\")\n",
        "except FileNotFoundError:\n",
        "    print(\"File non trovato\")\n",
        "\n",
        "cartella_csv = '/content/'\n"
      ]
    },
    {
      "cell_type": "code",
      "source": [
        "# Solo i tickers che ho in portafoglio\n",
        "\n",
        "prtf = ['TRMD', 'MSFT', 'STLA', 'NVDA', 'MC.PA', 'LRCX', 'META', 'AMAT', 'CFRUY', 'URI', 'AAPL', 'DHI', 'CHRD', 'LPG'\n",
        ",'SMCI','MOD']\n",
        "\n",
        "symbol_list = prtf\n",
        "\n",
        "all_tickers_filtered = prtf\n",
        "\n",
        "all_tickers = prtf\n",
        "\n",
        "print(len(prtf))"
      ],
      "metadata": {
        "id": "xufWphTNwSqD"
      },
      "execution_count": null,
      "outputs": []
    },
    {
      "cell_type": "code",
      "source": [
        "from tqdm import tqdm\n",
        "import pandas as pd\n",
        "import yfinance as yf\n",
        "\n",
        "def fetch_fundamental_data(symbol):\n",
        "    try:\n",
        "        stock = yf.Ticker(symbol).info\n",
        "        return stock\n",
        "    except Exception as e:\n",
        "        print(f\"Ignorato errore per il simbolo {symbol}: {e}\")\n",
        "        return None\n",
        "\n",
        "# Inizializza una lista per conservare i dati fondamentali\n",
        "fundamental_data = []\n",
        "\n",
        "# Utilizza tqdm per aggiungere una progress bar al ciclo\n",
        "for symbol in tqdm(all_tickers, desc=\"Fetching data\"):\n",
        "    data = fetch_fundamental_data(symbol)\n",
        "    if data is not None:\n",
        "        fundamental_data.append(data)\n",
        "\n",
        "# Crea il DataFrame finale dai dati fondamentali raccolti\n",
        "df_fundamental = pd.DataFrame(fundamental_data)"
      ],
      "metadata": {
        "id": "g_TRRvRwgFVy"
      },
      "execution_count": null,
      "outputs": []
    },
    {
      "cell_type": "code",
      "source": [
        "df_fundamental"
      ],
      "metadata": {
        "id": "L3wHtATes1Dy"
      },
      "execution_count": null,
      "outputs": []
    },
    {
      "cell_type": "code",
      "source": [
        "# Definisci la funzione che esegue la moltiplicazione\n",
        "def multiply_columns(df):\n",
        "    df['mostRecentQuarter'] = pd.to_datetime(df['mostRecentQuarter'], unit='s').dt.date\n",
        "    return df.drop(columns=['currentPrice', 'fiftyTwoWeekHigh'])\n",
        "\n",
        "# Filtra e seleziona il DataFrame, applica la funzione e ordina\n",
        "df_filtered = (\n",
        "    df_fundamental\n",
        "    [['shortName',  'industry','dividendYield', 'ebitdaMargins', 'recommendationKey','totalCashPerShare',\n",
        "      'returnOnEquity', 'currentPrice', 'fiftyTwoWeekHigh','earningsQuarterlyGrowth','mostRecentQuarter']]\n",
        "    .pipe(multiply_columns)\n",
        "    .sort_values(by='dividendYield', ascending=False)\n",
        ")\n",
        "\n",
        "df_filtered\n",
        "nuovo = df_filtered\n",
        "nuovo"
      ],
      "metadata": {
        "id": "RNcDjz8pwcEt"
      },
      "execution_count": null,
      "outputs": []
    },
    {
      "cell_type": "code",
      "source": [],
      "metadata": {
        "id": "COCuTFmevlkm"
      },
      "execution_count": null,
      "outputs": []
    },
    {
      "cell_type": "code",
      "source": [
        "esistente['mostRecentQuarter'] = pd.to_datetime(esistente['mostRecentQuarter'])\n",
        "nuovo['mostRecentQuarter'] = pd.to_datetime(nuovo['mostRecentQuarter'])\n",
        "\n",
        "esistente['shortName'] = esistente['shortName'].astype(str)\n",
        "nuovo['shortName'] = nuovo['shortName'].astype(str)\n",
        "\n",
        "esistente['industry'] = esistente['industry'].astype(str)\n",
        "nuovo['industry'] = nuovo['industry'].astype(str)\n"
      ],
      "metadata": {
        "id": "olkyDixu0cB_"
      },
      "execution_count": null,
      "outputs": []
    },
    {
      "cell_type": "code",
      "source": [
        "appeso = pd.concat([esistente,nuovo]).drop_duplicates(subset=[\"shortName\",\"mostRecentQuarter\"]).sort_values(by=['shortName', 'mostRecentQuarter'])\n"
      ],
      "metadata": {
        "id": "qIKj2-hR5plX"
      },
      "execution_count": null,
      "outputs": []
    },
    {
      "cell_type": "code",
      "source": [
        "appeso.to_csv('/content/simple_kpis.csv')\n"
      ],
      "metadata": {
        "id": "zdTdHIfyyzTg"
      },
      "execution_count": null,
      "outputs": []
    }
  ]
}
